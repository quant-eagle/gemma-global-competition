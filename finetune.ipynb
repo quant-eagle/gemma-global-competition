{
 "cells": [
  {
   "cell_type": "markdown",
   "metadata": {},
   "source": [
    "## Introduction: Gemma Czech Adaptation\n",
    "\n",
    "### Overview\n",
    "This notebook is part of the **Gemma Czech Adaptation** project, which aims to fine-tune the Gemma language model for enhanced understanding and generation of the Czech language. The project is independent of the original dataset from the Gemma competition and instead compiles custom datasets from the Hugging Face datasets hub, tailored to the nuances of Czech text.\n",
    "\n",
    "### Aims\n",
    "- **Fine-tuning:** Optimize the Gemma model for Czech text by using diverse datasets that include conversational language, formal writing, and domain-specific terminology.\n",
    "- **Task Specialization:** Enhance performance in specific tasks such as:\n",
    "  - Translation from and to Czech.\n",
    "  - Sentiment analysis on Czech text.\n",
    "  - Generative language tasks specific to the Czech context.\n",
    "- **Adaptability:** Make the model robust for varied Czech applications, such as chatbots, content summarization, and text classification.\n",
    "\n",
    "### Goals\n",
    "1. Compile and preprocess high-quality Czech text datasets from Hugging Face.\n",
    "2. Fine-tune the Gemma model using the compiled data to improve language-specific accuracy.\n",
    "3. Evaluate the fine-tuned model on a variety of tasks and benchmarks to measure its performance.\n",
    "4. Provide actionable insights for further improvements and adaptations.\n",
    "\n",
    "### Workflow\n",
    "1. **Dataset Compilation:** Identify and gather Czech-language datasets from Hugging Face.\n",
    "2. **Data Preprocessing:** Clean and tokenize the text data, preparing it for model fine-tuning.\n",
    "3. **Model Training:** Fine-tune the Gemma model using preprocessed datasets and suitable hyperparameters.\n",
    "4. **Evaluation:** Use a robust evaluation framework to measure the model's performance across multiple tasks.\n",
    "5. **Deployment:** Save the fine-tuned model in a deployable format for integration into Czech-specific applications.\n",
    "\n",
    "This notebook serves as a comprehensive guide to achieving these aims and goals while ensuring transparency and reproducibility of the fine-tuning process."
   ]
  },
  {
   "cell_type": "markdown",
   "metadata": {},
   "source": [
    "# Dataset preparation\n",
    "\n",
    "Brief introduction to the dataset preparation.\n",
    "Break down of dataset preparation into smaller steps combining multiple datasets.\n",
    "\n",
    "Dataset preparation is a crucial part of the fine-tuning process. We will use the following datasets:\n",
    "\n",
    "- Czech News Simple: https://huggingface.co/datasets/CIIRC-NLP/czech_news_simple-cs\n",
    "- Czech News Simple is a dataset of Czech news articles, which is a good starting point for our dataset preparation.\n",
    "\n",
    "We will also use the following datasets:\n",
    "..."
   ]
  },
  {
   "cell_type": "markdown",
   "metadata": {},
   "source": [
    "First we need to install the necessary packages:"
   ]
  },
  {
   "cell_type": "code",
   "execution_count": 1,
   "metadata": {},
   "outputs": [
    {
     "name": "stdout",
     "output_type": "stream",
     "text": [
      "Requirement already satisfied: datasets in ./gemma-global-competetion/lib/python3.13/site-packages (3.2.0)\n",
      "Requirement already satisfied: filelock in ./gemma-global-competetion/lib/python3.13/site-packages (from datasets) (3.16.1)\n",
      "Requirement already satisfied: numpy>=1.17 in ./gemma-global-competetion/lib/python3.13/site-packages (from datasets) (2.2.1)\n",
      "Requirement already satisfied: pyarrow>=15.0.0 in ./gemma-global-competetion/lib/python3.13/site-packages (from datasets) (18.1.0)\n",
      "Requirement already satisfied: dill<0.3.9,>=0.3.0 in ./gemma-global-competetion/lib/python3.13/site-packages (from datasets) (0.3.8)\n",
      "Requirement already satisfied: pandas in ./gemma-global-competetion/lib/python3.13/site-packages (from datasets) (2.2.3)\n",
      "Requirement already satisfied: requests>=2.32.2 in ./gemma-global-competetion/lib/python3.13/site-packages (from datasets) (2.32.3)\n",
      "Requirement already satisfied: tqdm>=4.66.3 in ./gemma-global-competetion/lib/python3.13/site-packages (from datasets) (4.67.1)\n",
      "Requirement already satisfied: xxhash in ./gemma-global-competetion/lib/python3.13/site-packages (from datasets) (3.5.0)\n",
      "Requirement already satisfied: multiprocess<0.70.17 in ./gemma-global-competetion/lib/python3.13/site-packages (from datasets) (0.70.16)\n",
      "Requirement already satisfied: fsspec<=2024.9.0,>=2023.1.0 in ./gemma-global-competetion/lib/python3.13/site-packages (from fsspec[http]<=2024.9.0,>=2023.1.0->datasets) (2024.9.0)\n",
      "Requirement already satisfied: aiohttp in ./gemma-global-competetion/lib/python3.13/site-packages (from datasets) (3.11.11)\n",
      "Requirement already satisfied: huggingface-hub>=0.23.0 in ./gemma-global-competetion/lib/python3.13/site-packages (from datasets) (0.27.0)\n",
      "Requirement already satisfied: packaging in ./gemma-global-competetion/lib/python3.13/site-packages (from datasets) (24.2)\n",
      "Requirement already satisfied: pyyaml>=5.1 in ./gemma-global-competetion/lib/python3.13/site-packages (from datasets) (6.0.2)\n",
      "Requirement already satisfied: aiohappyeyeballs>=2.3.0 in ./gemma-global-competetion/lib/python3.13/site-packages (from aiohttp->datasets) (2.4.4)\n",
      "Requirement already satisfied: aiosignal>=1.1.2 in ./gemma-global-competetion/lib/python3.13/site-packages (from aiohttp->datasets) (1.3.2)\n",
      "Requirement already satisfied: attrs>=17.3.0 in ./gemma-global-competetion/lib/python3.13/site-packages (from aiohttp->datasets) (24.3.0)\n",
      "Requirement already satisfied: frozenlist>=1.1.1 in ./gemma-global-competetion/lib/python3.13/site-packages (from aiohttp->datasets) (1.5.0)\n",
      "Requirement already satisfied: multidict<7.0,>=4.5 in ./gemma-global-competetion/lib/python3.13/site-packages (from aiohttp->datasets) (6.1.0)\n",
      "Requirement already satisfied: propcache>=0.2.0 in ./gemma-global-competetion/lib/python3.13/site-packages (from aiohttp->datasets) (0.2.1)\n",
      "Requirement already satisfied: yarl<2.0,>=1.17.0 in ./gemma-global-competetion/lib/python3.13/site-packages (from aiohttp->datasets) (1.18.3)\n",
      "Requirement already satisfied: typing-extensions>=3.7.4.3 in ./gemma-global-competetion/lib/python3.13/site-packages (from huggingface-hub>=0.23.0->datasets) (4.12.2)\n",
      "Requirement already satisfied: charset-normalizer<4,>=2 in ./gemma-global-competetion/lib/python3.13/site-packages (from requests>=2.32.2->datasets) (3.4.1)\n",
      "Requirement already satisfied: idna<4,>=2.5 in ./gemma-global-competetion/lib/python3.13/site-packages (from requests>=2.32.2->datasets) (3.10)\n",
      "Requirement already satisfied: urllib3<3,>=1.21.1 in ./gemma-global-competetion/lib/python3.13/site-packages (from requests>=2.32.2->datasets) (2.3.0)\n",
      "Requirement already satisfied: certifi>=2017.4.17 in ./gemma-global-competetion/lib/python3.13/site-packages (from requests>=2.32.2->datasets) (2024.12.14)\n",
      "Requirement already satisfied: python-dateutil>=2.8.2 in ./gemma-global-competetion/lib/python3.13/site-packages (from pandas->datasets) (2.9.0.post0)\n",
      "Requirement already satisfied: pytz>=2020.1 in ./gemma-global-competetion/lib/python3.13/site-packages (from pandas->datasets) (2024.2)\n",
      "Requirement already satisfied: tzdata>=2022.7 in ./gemma-global-competetion/lib/python3.13/site-packages (from pandas->datasets) (2024.2)\n",
      "Requirement already satisfied: six>=1.5 in ./gemma-global-competetion/lib/python3.13/site-packages (from python-dateutil>=2.8.2->pandas->datasets) (1.17.0)\n",
      "Note: you may need to restart the kernel to use updated packages.\n",
      "Requirement already satisfied: polars in ./gemma-global-competetion/lib/python3.13/site-packages (1.18.0)\n",
      "Note: you may need to restart the kernel to use updated packages.\n",
      "Requirement already satisfied: seaborn in ./gemma-global-competetion/lib/python3.13/site-packages (0.13.2)\n",
      "Requirement already satisfied: numpy!=1.24.0,>=1.20 in ./gemma-global-competetion/lib/python3.13/site-packages (from seaborn) (2.2.1)\n",
      "Requirement already satisfied: pandas>=1.2 in ./gemma-global-competetion/lib/python3.13/site-packages (from seaborn) (2.2.3)\n",
      "Requirement already satisfied: matplotlib!=3.6.1,>=3.4 in ./gemma-global-competetion/lib/python3.13/site-packages (from seaborn) (3.10.0)\n",
      "Requirement already satisfied: contourpy>=1.0.1 in ./gemma-global-competetion/lib/python3.13/site-packages (from matplotlib!=3.6.1,>=3.4->seaborn) (1.3.1)\n",
      "Requirement already satisfied: cycler>=0.10 in ./gemma-global-competetion/lib/python3.13/site-packages (from matplotlib!=3.6.1,>=3.4->seaborn) (0.12.1)\n",
      "Requirement already satisfied: fonttools>=4.22.0 in ./gemma-global-competetion/lib/python3.13/site-packages (from matplotlib!=3.6.1,>=3.4->seaborn) (4.55.3)\n",
      "Requirement already satisfied: kiwisolver>=1.3.1 in ./gemma-global-competetion/lib/python3.13/site-packages (from matplotlib!=3.6.1,>=3.4->seaborn) (1.4.8)\n",
      "Requirement already satisfied: packaging>=20.0 in ./gemma-global-competetion/lib/python3.13/site-packages (from matplotlib!=3.6.1,>=3.4->seaborn) (24.2)\n",
      "Requirement already satisfied: pillow>=8 in ./gemma-global-competetion/lib/python3.13/site-packages (from matplotlib!=3.6.1,>=3.4->seaborn) (11.1.0)\n",
      "Requirement already satisfied: pyparsing>=2.3.1 in ./gemma-global-competetion/lib/python3.13/site-packages (from matplotlib!=3.6.1,>=3.4->seaborn) (3.2.1)\n",
      "Requirement already satisfied: python-dateutil>=2.7 in ./gemma-global-competetion/lib/python3.13/site-packages (from matplotlib!=3.6.1,>=3.4->seaborn) (2.9.0.post0)\n",
      "Requirement already satisfied: pytz>=2020.1 in ./gemma-global-competetion/lib/python3.13/site-packages (from pandas>=1.2->seaborn) (2024.2)\n",
      "Requirement already satisfied: tzdata>=2022.7 in ./gemma-global-competetion/lib/python3.13/site-packages (from pandas>=1.2->seaborn) (2024.2)\n",
      "Requirement already satisfied: six>=1.5 in ./gemma-global-competetion/lib/python3.13/site-packages (from python-dateutil>=2.7->matplotlib!=3.6.1,>=3.4->seaborn) (1.17.0)\n",
      "Note: you may need to restart the kernel to use updated packages.\n",
      "Requirement already satisfied: matplotlib in ./gemma-global-competetion/lib/python3.13/site-packages (3.10.0)\n",
      "Requirement already satisfied: contourpy>=1.0.1 in ./gemma-global-competetion/lib/python3.13/site-packages (from matplotlib) (1.3.1)\n",
      "Requirement already satisfied: cycler>=0.10 in ./gemma-global-competetion/lib/python3.13/site-packages (from matplotlib) (0.12.1)\n",
      "Requirement already satisfied: fonttools>=4.22.0 in ./gemma-global-competetion/lib/python3.13/site-packages (from matplotlib) (4.55.3)\n",
      "Requirement already satisfied: kiwisolver>=1.3.1 in ./gemma-global-competetion/lib/python3.13/site-packages (from matplotlib) (1.4.8)\n",
      "Requirement already satisfied: numpy>=1.23 in ./gemma-global-competetion/lib/python3.13/site-packages (from matplotlib) (2.2.1)\n",
      "Requirement already satisfied: packaging>=20.0 in ./gemma-global-competetion/lib/python3.13/site-packages (from matplotlib) (24.2)\n",
      "Requirement already satisfied: pillow>=8 in ./gemma-global-competetion/lib/python3.13/site-packages (from matplotlib) (11.1.0)\n",
      "Requirement already satisfied: pyparsing>=2.3.1 in ./gemma-global-competetion/lib/python3.13/site-packages (from matplotlib) (3.2.1)\n",
      "Requirement already satisfied: python-dateutil>=2.7 in ./gemma-global-competetion/lib/python3.13/site-packages (from matplotlib) (2.9.0.post0)\n",
      "Requirement already satisfied: six>=1.5 in ./gemma-global-competetion/lib/python3.13/site-packages (from python-dateutil>=2.7->matplotlib) (1.17.0)\n",
      "Note: you may need to restart the kernel to use updated packages.\n",
      "Requirement already satisfied: levenshtein in ./gemma-global-competetion/lib/python3.13/site-packages (0.26.1)\n",
      "Requirement already satisfied: rapidfuzz<4.0.0,>=3.9.0 in ./gemma-global-competetion/lib/python3.13/site-packages (from levenshtein) (3.11.0)\n",
      "Note: you may need to restart the kernel to use updated packages.\n"
     ]
    }
   ],
   "source": [
    "%pip install datasets\n",
    "%pip install polars\n",
    "%pip install seaborn\n",
    "%pip install matplotlib\n",
    "%pip install levenshtein"
   ]
  },
  {
   "cell_type": "code",
   "execution_count": null,
   "metadata": {},
   "outputs": [
    {
     "data": {
      "text/html": [
       "<div><style>\n",
       ".dataframe > thead > tr,\n",
       ".dataframe > tbody > tr {\n",
       "  text-align: right;\n",
       "  white-space: pre-wrap;\n",
       "}\n",
       "</style>\n",
       "<small>shape: (5, 1)</small><table border=\"1\" class=\"dataframe\"><thead><tr><th>1.243455574931253\tÓ anoÁdovci věru v Pána svého neuvěřili!\tNow surely Ad disbelieved in their Lord.\tcs\ten</th></tr><tr><td>str</td></tr></thead><tbody><tr><td>&quot;1.232500167844209\tVe jménu Boh…</td></tr><tr><td>&quot;1.2306260328933156\tEXKLUZIVNĚ:…</td></tr><tr><td>&quot;1.221667288984966\tOba mohli př…</td></tr><tr><td>&quot;1.2046566688309361\tBylo by to …</td></tr><tr><td>&quot;1.2012134076981507\tBůh Enkai s…</td></tr></tbody></table></div>"
      ],
      "text/plain": [
       "shape: (5, 1)\n",
       "┌─────────────────────────────────┐\n",
       "│ 1.243455574931253\tÓ anoÁdovci … │\n",
       "│ ---                             │\n",
       "│ str                             │\n",
       "╞═════════════════════════════════╡\n",
       "│ 1.232500167844209\tVe jménu Boh… │\n",
       "│ 1.2306260328933156\tEXKLUZIVNĚ:… │\n",
       "│ 1.221667288984966\tOba mohli př… │\n",
       "│ 1.2046566688309361\tBylo by to … │\n",
       "│ 1.2012134076981507\tBůh Enkai s… │\n",
       "└─────────────────────────────────┘"
      ]
     },
     "execution_count": 35,
     "metadata": {},
     "output_type": "execute_result"
    }
   ],
   "source": [
    "import polars as pl\n",
    "\n",
    "wikimatrix_filepath = 'data/translation/wikimatrix_2.tsv'\n",
    "\n",
    "df = pl.read_csv(wikimatrix_filepath, separator='\\t', truncate_ragged_lines=True, infer_schema_length=1000000, ignore_errors=True)\n",
    "\n",
    "df.head()"
   ]
  },
  {
   "cell_type": "code",
   "execution_count": 34,
   "metadata": {},
   "outputs": [],
   "source": [
    "# Define all types of quotes to remove\n",
    "quotes = ['\"', \"'\", '\"', '\"', ''', ''', '‚', '‛', '„', '‟', \"`\", \"´\", \"‘\", \"“\", \"’\"]\n",
    "    \n",
    "with open('data/translation/wikimatrix.tsv', 'r') as infile, open('data/translation/wikimatrix_2.tsv', 'w') as outfile:\n",
    "    for line in infile:\n",
    "        # Remove all types of quotes\n",
    "        for quote in quotes:\n",
    "            line = line.replace(quote, '')\n",
    "        outfile.write(line)"
   ]
  }
 ],
 "metadata": {
  "kernelspec": {
   "display_name": "gemma-global-competetion",
   "language": "python",
   "name": "python3"
  },
  "language_info": {
   "codemirror_mode": {
    "name": "ipython",
    "version": 3
   },
   "file_extension": ".py",
   "mimetype": "text/x-python",
   "name": "python",
   "nbconvert_exporter": "python",
   "pygments_lexer": "ipython3",
   "version": "3.13.1"
  }
 },
 "nbformat": 4,
 "nbformat_minor": 2
}
