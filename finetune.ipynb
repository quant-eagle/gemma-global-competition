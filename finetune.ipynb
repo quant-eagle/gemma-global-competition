{
 "cells": [
  {
   "cell_type": "markdown",
   "metadata": {},
   "source": [
    "## Introduction: Gemma Czech Adaptation\n",
    "\n",
    "### Overview\n",
    "This notebook is part of the **Gemma Czech Adaptation** project, which aims to fine-tune the Gemma language model for enhanced understanding and generation of the Czech language. The project is independent of the original dataset from the Gemma competition and instead compiles custom datasets from the Hugging Face datasets hub, tailored to the nuances of Czech text.\n",
    "\n",
    "### Aims\n",
    "- **Fine-tuning:** Optimize the Gemma model for Czech text by using diverse datasets that include conversational language, formal writing, and domain-specific terminology.\n",
    "- **Task Specialization:** Enhance performance in specific tasks such as:\n",
    "  - Translation from and to Czech.\n",
    "  - Sentiment analysis on Czech text.\n",
    "  - Generative language tasks specific to the Czech context.\n",
    "- **Adaptability:** Make the model robust for varied Czech applications, such as chatbots, content summarization, and text classification.\n",
    "\n",
    "### Goals\n",
    "1. Compile and preprocess high-quality Czech text datasets from Hugging Face.\n",
    "2. Fine-tune the Gemma model using the compiled data to improve language-specific accuracy.\n",
    "3. Evaluate the fine-tuned model on a variety of tasks and benchmarks to measure its performance.\n",
    "4. Provide actionable insights for further improvements and adaptations.\n",
    "\n",
    "### Workflow\n",
    "1. **Dataset Compilation:** Identify and gather Czech-language datasets from Hugging Face.\n",
    "2. **Data Preprocessing:** Clean and tokenize the text data, preparing it for model fine-tuning.\n",
    "3. **Model Training:** Fine-tune the Gemma model using preprocessed datasets and suitable hyperparameters.\n",
    "4. **Evaluation:** Use a robust evaluation framework to measure the model's performance across multiple tasks.\n",
    "5. **Deployment:** Save the fine-tuned model in a deployable format for integration into Czech-specific applications.\n",
    "\n",
    "This notebook serves as a comprehensive guide to achieving these aims and goals while ensuring transparency and reproducibility of the fine-tuning process."
   ]
  },
  {
   "cell_type": "markdown",
   "metadata": {},
   "source": [
    "# Dataset preparation\n",
    "\n",
    "Brief introduction to the dataset preparation.\n",
    "Break down of dataset preparation into smaller steps combining multiple datasets.\n",
    "\n",
    "Dataset preparation is a crucial part of the fine-tuning process. We will use the following datasets:\n",
    "\n",
    "- Czech News Simple: https://huggingface.co/datasets/CIIRC-NLP/czech_news_simple-cs\n",
    "- Czech News Simple is a dataset of Czech news articles, which is a good starting point for our dataset preparation.\n",
    "\n",
    "We will also use the following datasets:\n",
    "..."
   ]
  },
  {
   "cell_type": "markdown",
   "metadata": {},
   "source": [
    "First we need to install the necessary packages:"
   ]
  },
  {
   "cell_type": "code",
   "execution_count": 1,
   "metadata": {},
   "outputs": [
    {
     "name": "stdout",
     "output_type": "stream",
     "text": [
      "Requirement already satisfied: datasets in ./gemma-global-competetion/lib/python3.13/site-packages (3.2.0)\n",
      "Requirement already satisfied: filelock in ./gemma-global-competetion/lib/python3.13/site-packages (from datasets) (3.16.1)\n",
      "Requirement already satisfied: numpy>=1.17 in ./gemma-global-competetion/lib/python3.13/site-packages (from datasets) (2.2.1)\n",
      "Requirement already satisfied: pyarrow>=15.0.0 in ./gemma-global-competetion/lib/python3.13/site-packages (from datasets) (18.1.0)\n",
      "Requirement already satisfied: dill<0.3.9,>=0.3.0 in ./gemma-global-competetion/lib/python3.13/site-packages (from datasets) (0.3.8)\n",
      "Requirement already satisfied: pandas in ./gemma-global-competetion/lib/python3.13/site-packages (from datasets) (2.2.3)\n",
      "Requirement already satisfied: requests>=2.32.2 in ./gemma-global-competetion/lib/python3.13/site-packages (from datasets) (2.32.3)\n",
      "Requirement already satisfied: tqdm>=4.66.3 in ./gemma-global-competetion/lib/python3.13/site-packages (from datasets) (4.67.1)\n",
      "Requirement already satisfied: xxhash in ./gemma-global-competetion/lib/python3.13/site-packages (from datasets) (3.5.0)\n",
      "Requirement already satisfied: multiprocess<0.70.17 in ./gemma-global-competetion/lib/python3.13/site-packages (from datasets) (0.70.16)\n",
      "Requirement already satisfied: fsspec<=2024.9.0,>=2023.1.0 in ./gemma-global-competetion/lib/python3.13/site-packages (from fsspec[http]<=2024.9.0,>=2023.1.0->datasets) (2024.9.0)\n",
      "Requirement already satisfied: aiohttp in ./gemma-global-competetion/lib/python3.13/site-packages (from datasets) (3.11.11)\n",
      "Requirement already satisfied: huggingface-hub>=0.23.0 in ./gemma-global-competetion/lib/python3.13/site-packages (from datasets) (0.27.0)\n",
      "Requirement already satisfied: packaging in ./gemma-global-competetion/lib/python3.13/site-packages (from datasets) (24.2)\n",
      "Requirement already satisfied: pyyaml>=5.1 in ./gemma-global-competetion/lib/python3.13/site-packages (from datasets) (6.0.2)\n",
      "Requirement already satisfied: aiohappyeyeballs>=2.3.0 in ./gemma-global-competetion/lib/python3.13/site-packages (from aiohttp->datasets) (2.4.4)\n",
      "Requirement already satisfied: aiosignal>=1.1.2 in ./gemma-global-competetion/lib/python3.13/site-packages (from aiohttp->datasets) (1.3.2)\n",
      "Requirement already satisfied: attrs>=17.3.0 in ./gemma-global-competetion/lib/python3.13/site-packages (from aiohttp->datasets) (24.3.0)\n",
      "Requirement already satisfied: frozenlist>=1.1.1 in ./gemma-global-competetion/lib/python3.13/site-packages (from aiohttp->datasets) (1.5.0)\n",
      "Requirement already satisfied: multidict<7.0,>=4.5 in ./gemma-global-competetion/lib/python3.13/site-packages (from aiohttp->datasets) (6.1.0)\n",
      "Requirement already satisfied: propcache>=0.2.0 in ./gemma-global-competetion/lib/python3.13/site-packages (from aiohttp->datasets) (0.2.1)\n",
      "Requirement already satisfied: yarl<2.0,>=1.17.0 in ./gemma-global-competetion/lib/python3.13/site-packages (from aiohttp->datasets) (1.18.3)\n",
      "Requirement already satisfied: typing-extensions>=3.7.4.3 in ./gemma-global-competetion/lib/python3.13/site-packages (from huggingface-hub>=0.23.0->datasets) (4.12.2)\n",
      "Requirement already satisfied: charset-normalizer<4,>=2 in ./gemma-global-competetion/lib/python3.13/site-packages (from requests>=2.32.2->datasets) (3.4.1)\n",
      "Requirement already satisfied: idna<4,>=2.5 in ./gemma-global-competetion/lib/python3.13/site-packages (from requests>=2.32.2->datasets) (3.10)\n",
      "Requirement already satisfied: urllib3<3,>=1.21.1 in ./gemma-global-competetion/lib/python3.13/site-packages (from requests>=2.32.2->datasets) (2.3.0)\n",
      "Requirement already satisfied: certifi>=2017.4.17 in ./gemma-global-competetion/lib/python3.13/site-packages (from requests>=2.32.2->datasets) (2024.12.14)\n",
      "Requirement already satisfied: python-dateutil>=2.8.2 in ./gemma-global-competetion/lib/python3.13/site-packages (from pandas->datasets) (2.9.0.post0)\n",
      "Requirement already satisfied: pytz>=2020.1 in ./gemma-global-competetion/lib/python3.13/site-packages (from pandas->datasets) (2024.2)\n",
      "Requirement already satisfied: tzdata>=2022.7 in ./gemma-global-competetion/lib/python3.13/site-packages (from pandas->datasets) (2024.2)\n",
      "Requirement already satisfied: six>=1.5 in ./gemma-global-competetion/lib/python3.13/site-packages (from python-dateutil>=2.8.2->pandas->datasets) (1.17.0)\n",
      "Note: you may need to restart the kernel to use updated packages.\n",
      "Requirement already satisfied: polars in ./gemma-global-competetion/lib/python3.13/site-packages (1.18.0)\n",
      "Note: you may need to restart the kernel to use updated packages.\n",
      "Requirement already satisfied: seaborn in ./gemma-global-competetion/lib/python3.13/site-packages (0.13.2)\n",
      "Requirement already satisfied: numpy!=1.24.0,>=1.20 in ./gemma-global-competetion/lib/python3.13/site-packages (from seaborn) (2.2.1)\n",
      "Requirement already satisfied: pandas>=1.2 in ./gemma-global-competetion/lib/python3.13/site-packages (from seaborn) (2.2.3)\n",
      "Requirement already satisfied: matplotlib!=3.6.1,>=3.4 in ./gemma-global-competetion/lib/python3.13/site-packages (from seaborn) (3.10.0)\n",
      "Requirement already satisfied: contourpy>=1.0.1 in ./gemma-global-competetion/lib/python3.13/site-packages (from matplotlib!=3.6.1,>=3.4->seaborn) (1.3.1)\n",
      "Requirement already satisfied: cycler>=0.10 in ./gemma-global-competetion/lib/python3.13/site-packages (from matplotlib!=3.6.1,>=3.4->seaborn) (0.12.1)\n",
      "Requirement already satisfied: fonttools>=4.22.0 in ./gemma-global-competetion/lib/python3.13/site-packages (from matplotlib!=3.6.1,>=3.4->seaborn) (4.55.3)\n",
      "Requirement already satisfied: kiwisolver>=1.3.1 in ./gemma-global-competetion/lib/python3.13/site-packages (from matplotlib!=3.6.1,>=3.4->seaborn) (1.4.8)\n",
      "Requirement already satisfied: packaging>=20.0 in ./gemma-global-competetion/lib/python3.13/site-packages (from matplotlib!=3.6.1,>=3.4->seaborn) (24.2)\n",
      "Requirement already satisfied: pillow>=8 in ./gemma-global-competetion/lib/python3.13/site-packages (from matplotlib!=3.6.1,>=3.4->seaborn) (11.1.0)\n",
      "Requirement already satisfied: pyparsing>=2.3.1 in ./gemma-global-competetion/lib/python3.13/site-packages (from matplotlib!=3.6.1,>=3.4->seaborn) (3.2.1)\n",
      "Requirement already satisfied: python-dateutil>=2.7 in ./gemma-global-competetion/lib/python3.13/site-packages (from matplotlib!=3.6.1,>=3.4->seaborn) (2.9.0.post0)\n",
      "Requirement already satisfied: pytz>=2020.1 in ./gemma-global-competetion/lib/python3.13/site-packages (from pandas>=1.2->seaborn) (2024.2)\n",
      "Requirement already satisfied: tzdata>=2022.7 in ./gemma-global-competetion/lib/python3.13/site-packages (from pandas>=1.2->seaborn) (2024.2)\n",
      "Requirement already satisfied: six>=1.5 in ./gemma-global-competetion/lib/python3.13/site-packages (from python-dateutil>=2.7->matplotlib!=3.6.1,>=3.4->seaborn) (1.17.0)\n",
      "Note: you may need to restart the kernel to use updated packages.\n",
      "Requirement already satisfied: matplotlib in ./gemma-global-competetion/lib/python3.13/site-packages (3.10.0)\n",
      "Requirement already satisfied: contourpy>=1.0.1 in ./gemma-global-competetion/lib/python3.13/site-packages (from matplotlib) (1.3.1)\n",
      "Requirement already satisfied: cycler>=0.10 in ./gemma-global-competetion/lib/python3.13/site-packages (from matplotlib) (0.12.1)\n",
      "Requirement already satisfied: fonttools>=4.22.0 in ./gemma-global-competetion/lib/python3.13/site-packages (from matplotlib) (4.55.3)\n",
      "Requirement already satisfied: kiwisolver>=1.3.1 in ./gemma-global-competetion/lib/python3.13/site-packages (from matplotlib) (1.4.8)\n",
      "Requirement already satisfied: numpy>=1.23 in ./gemma-global-competetion/lib/python3.13/site-packages (from matplotlib) (2.2.1)\n",
      "Requirement already satisfied: packaging>=20.0 in ./gemma-global-competetion/lib/python3.13/site-packages (from matplotlib) (24.2)\n",
      "Requirement already satisfied: pillow>=8 in ./gemma-global-competetion/lib/python3.13/site-packages (from matplotlib) (11.1.0)\n",
      "Requirement already satisfied: pyparsing>=2.3.1 in ./gemma-global-competetion/lib/python3.13/site-packages (from matplotlib) (3.2.1)\n",
      "Requirement already satisfied: python-dateutil>=2.7 in ./gemma-global-competetion/lib/python3.13/site-packages (from matplotlib) (2.9.0.post0)\n",
      "Requirement already satisfied: six>=1.5 in ./gemma-global-competetion/lib/python3.13/site-packages (from python-dateutil>=2.7->matplotlib) (1.17.0)\n",
      "Note: you may need to restart the kernel to use updated packages.\n",
      "Requirement already satisfied: levenshtein in ./gemma-global-competetion/lib/python3.13/site-packages (0.26.1)\n",
      "Requirement already satisfied: rapidfuzz<4.0.0,>=3.9.0 in ./gemma-global-competetion/lib/python3.13/site-packages (from levenshtein) (3.11.0)\n",
      "Note: you may need to restart the kernel to use updated packages.\n"
     ]
    }
   ],
   "source": [
    "%pip install datasets\n",
    "%pip install polars\n",
    "%pip install seaborn\n",
    "%pip install matplotlib"
   ]
  },
  {
   "cell_type": "markdown",
   "metadata": {},
   "source": [
    "Then we preprocess our datasets"
   ]
  },
  {
   "cell_type": "code",
   "execution_count": 2,
   "metadata": {},
   "outputs": [
    {
     "data": {
      "text/html": [
       "<div><style>\n",
       ".dataframe > thead > tr,\n",
       ".dataframe > tbody > tr {\n",
       "  text-align: right;\n",
       "  white-space: pre-wrap;\n",
       "}\n",
       "</style>\n",
       "<small>shape: (5, 8)</small><table border=\"1\" class=\"dataframe\"><thead><tr><th>lhs</th><th>rhs</th><th>ep-09-11-26-008-04.txt</th><th>008-04</th><th></th><th>_duplicated_0</th><th>_duplicated_1</th><th>_duplicated_2</th></tr><tr><td>str</td><td>str</td><td>str</td><td>str</td><td>i64</td><td>str</td><td>str</td><td>str</td></tr></thead><tbody><tr><td>&quot;Vážená paní předsedající, jest…</td><td>&quot;(EL) Madam President, as far a…</td><td>&quot;ep-08-06-17-012.txt&quot;</td><td>&quot;012&quot;</td><td>400</td><td>&quot;Dimitrios Papadimoulis&quot;</td><td>&quot;EL&quot;</td><td>&quot;GUE/NGL&quot;</td></tr><tr><td>&quot;Změřil jsem dobu trvání jednot…</td><td>&quot;I have timed their contributio…</td><td>&quot;ep-08-06-17-012.txt&quot;</td><td>&quot;012&quot;</td><td>400</td><td>&quot;Dimitrios Papadimoulis&quot;</td><td>&quot;EL&quot;</td><td>&quot;GUE/NGL&quot;</td></tr><tr><td>&quot;Z toho důvodu žádám, aby byla …</td><td>&quot;I therefore request that Quest…</td><td>&quot;ep-08-06-17-012.txt&quot;</td><td>&quot;012&quot;</td><td>400</td><td>&quot;Dimitrios Papadimoulis&quot;</td><td>&quot;EL&quot;</td><td>&quot;GUE/NGL&quot;</td></tr><tr><td>&quot;Předpokládám, že pan komisař n…</td><td>&quot;I take it that the Commissione…</td><td>&quot;ep-08-06-17-012.txt&quot;</td><td>&quot;012&quot;</td><td>400</td><td>&quot;Dimitrios Papadimoulis&quot;</td><td>&quot;EL&quot;</td><td>&quot;GUE/NGL&quot;</td></tr><tr><td>&quot;písemně. - (PL) Moje země, Pol…</td><td>&quot;My country, Poland, is especia…</td><td>&quot;ep-09-03-25-002.txt&quot;</td><td>&quot;002&quot;</td><td>75</td><td>&quot;Genowefa Grabowska&nbsp;&nbsp;&quot;</td><td>&quot;PL&quot;</td><td>&quot;PSE&quot;</td></tr></tbody></table></div>"
      ],
      "text/plain": [
       "shape: (5, 8)\n",
       "┌─────────────┬─────────────┬─────────────┬────────┬─────┬─────────────┬─────────────┬─────────────┐\n",
       "│ lhs         ┆ rhs         ┆ ep-09-11-26 ┆ 008-04 ┆     ┆ _duplicated ┆ _duplicated ┆ _duplicated │\n",
       "│ ---         ┆ ---         ┆ -008-04.txt ┆ ---    ┆ --- ┆ _0          ┆ _1          ┆ _2          │\n",
       "│ str         ┆ str         ┆ ---         ┆ str    ┆ i64 ┆ ---         ┆ ---         ┆ ---         │\n",
       "│             ┆             ┆ str         ┆        ┆     ┆ str         ┆ str         ┆ str         │\n",
       "╞═════════════╪═════════════╪═════════════╪════════╪═════╪═════════════╪═════════════╪═════════════╡\n",
       "│ Vážená paní ┆ (EL) Madam  ┆ ep-08-06-17 ┆ 012    ┆ 400 ┆ Dimitrios   ┆ EL          ┆ GUE/NGL     │\n",
       "│ předsedajíc ┆ President,  ┆ -012.txt    ┆        ┆     ┆ Papadimouli ┆             ┆             │\n",
       "│ í, jest…    ┆ as far a…   ┆             ┆        ┆     ┆ s           ┆             ┆             │\n",
       "│ Změřil jsem ┆ I have      ┆ ep-08-06-17 ┆ 012    ┆ 400 ┆ Dimitrios   ┆ EL          ┆ GUE/NGL     │\n",
       "│ dobu trvání ┆ timed their ┆ -012.txt    ┆        ┆     ┆ Papadimouli ┆             ┆             │\n",
       "│ jednot…     ┆ contributio ┆             ┆        ┆     ┆ s           ┆             ┆             │\n",
       "│             ┆ …           ┆             ┆        ┆     ┆             ┆             ┆             │\n",
       "│ Z toho      ┆ I therefore ┆ ep-08-06-17 ┆ 012    ┆ 400 ┆ Dimitrios   ┆ EL          ┆ GUE/NGL     │\n",
       "│ důvodu      ┆ request     ┆ -012.txt    ┆        ┆     ┆ Papadimouli ┆             ┆             │\n",
       "│ žádám, aby  ┆ that Quest… ┆             ┆        ┆     ┆ s           ┆             ┆             │\n",
       "│ byla …      ┆             ┆             ┆        ┆     ┆             ┆             ┆             │\n",
       "│ Předpokládá ┆ I take it   ┆ ep-08-06-17 ┆ 012    ┆ 400 ┆ Dimitrios   ┆ EL          ┆ GUE/NGL     │\n",
       "│ m, že pan   ┆ that the    ┆ -012.txt    ┆        ┆     ┆ Papadimouli ┆             ┆             │\n",
       "│ komisař n…  ┆ Commissione ┆             ┆        ┆     ┆ s           ┆             ┆             │\n",
       "│             ┆ …           ┆             ┆        ┆     ┆             ┆             ┆             │\n",
       "│ písemně. -  ┆ My country, ┆ ep-09-03-25 ┆ 002    ┆ 75  ┆ Genowefa    ┆ PL          ┆ PSE         │\n",
       "│ (PL) Moje   ┆ Poland, is  ┆ -002.txt    ┆        ┆     ┆ Grabowska   ┆             ┆             │\n",
       "│ země, Pol…  ┆ especia…    ┆             ┆        ┆     ┆             ┆             ┆             │\n",
       "└─────────────┴─────────────┴─────────────┴────────┴─────┴─────────────┴─────────────┴─────────────┘"
      ]
     },
     "execution_count": 2,
     "metadata": {},
     "output_type": "execute_result"
    }
   ],
   "source": [
    "import polars as pl\n",
    "from functools import reduce\n",
    "import operator\n",
    "\n",
    "def count_quotes(column):\n",
    "    return pl.col(column).str.count_matches('\"')\n",
    "\n",
    "europarl_filepath = 'data/translation/europarl.tsv'\n",
    "\n",
    "df_europarl = pl.read_csv(europarl_filepath, separator='\\t', quote_char=None, ignore_errors=True, truncate_ragged_lines=True)\n",
    "\n",
    "string_columns = [col for col in df_europarl.columns if df_europarl[col].dtype == pl.Utf8] \n",
    "\n",
    "mask = reduce(operator.or_, [(count_quotes(col) % 2 != 0) for col in string_columns])\n",
    "df_europarl = df_europarl.filter(~mask)\n",
    "df_europarl = df_europarl.rename({\n",
    "    df_europarl.columns[0]: \"lhs\",\n",
    "    df_europarl.columns[1]: \"rhs\",\n",
    "})\n",
    "\n",
    "df_europarl.head()\n"
   ]
  },
  {
   "cell_type": "code",
   "execution_count": 3,
   "metadata": {},
   "outputs": [
    {
     "data": {
      "text/html": [
       "<div><style>\n",
       ".dataframe > thead > tr,\n",
       ".dataframe > tbody > tr {\n",
       "  text-align: right;\n",
       "  white-space: pre-wrap;\n",
       "}\n",
       "</style>\n",
       "<small>shape: (5, 2)</small><table border=\"1\" class=\"dataframe\"><thead><tr><th>lhs</th><th>rhs</th></tr><tr><td>str</td><td>str</td></tr></thead><tbody><tr><td>&quot;As families grow in size, so t…</td><td>&quot;Čím větší rodina, tím více pož…</td></tr><tr><td>&quot;Weather in Barueri: no precipi…</td><td>&quot;Počasí v Barueri: přeháňky - 0…</td></tr><tr><td>&quot;Local Time: Sīdī Sālim, Egypt&quot;</td><td>&quot;Místní čas: Al Husayniyah, Egy…</td></tr><tr><td>&quot;Then let him patiently wait an…</td><td>&quot;Pak nechť trpělivě čeká a pečl…</td></tr><tr><td>&quot;* many opportunities to share …</td><td>&quot;• mnoho příležitostí k otevřen…</td></tr></tbody></table></div>"
      ],
      "text/plain": [
       "shape: (5, 2)\n",
       "┌─────────────────────────────────┬─────────────────────────────────┐\n",
       "│ lhs                             ┆ rhs                             │\n",
       "│ ---                             ┆ ---                             │\n",
       "│ str                             ┆ str                             │\n",
       "╞═════════════════════════════════╪═════════════════════════════════╡\n",
       "│ As families grow in size, so t… ┆ Čím větší rodina, tím více pož… │\n",
       "│ Weather in Barueri: no precipi… ┆ Počasí v Barueri: přeháňky - 0… │\n",
       "│ Local Time: Sīdī Sālim, Egypt   ┆ Místní čas: Al Husayniyah, Egy… │\n",
       "│ Then let him patiently wait an… ┆ Pak nechť trpělivě čeká a pečl… │\n",
       "│ * many opportunities to share … ┆ • mnoho příležitostí k otevřen… │\n",
       "└─────────────────────────────────┴─────────────────────────────────┘"
      ]
     },
     "execution_count": 3,
     "metadata": {},
     "output_type": "execute_result"
    }
   ],
   "source": [
    "import polars as pl\n",
    "from functools import reduce\n",
    "import operator\n",
    "\n",
    "def count_quotes(column):\n",
    "    return pl.col(column).str.count_matches('\"')\n",
    "\n",
    "paracrawl_filepath = 'data/translation/paracrawl.txt'\n",
    "\n",
    "df_paracrawl = pl.read_csv(paracrawl_filepath, separator='\\t', quote_char=None, ignore_errors=True, truncate_ragged_lines=True)\n",
    "\n",
    "string_columns = [col for col in df_paracrawl.columns if df_paracrawl[col].dtype == pl.Utf8] \n",
    "\n",
    "mask = reduce(operator.or_, [(count_quotes(col) % 2 != 0) for col in string_columns])\n",
    "df_paracrawl = df_paracrawl.filter(~mask)\n",
    "df_paracrawl = df_paracrawl.rename({\n",
    "    df_paracrawl.columns[0]: \"lhs\",\n",
    "    df_paracrawl.columns[1]: \"rhs\",\n",
    "})\n",
    "\n",
    "df_paracrawl.head()"
   ]
  },
  {
   "cell_type": "markdown",
   "metadata": {},
   "source": [
    "Create function that converts our datasets to alpaca format"
   ]
  },
  {
   "cell_type": "code",
   "execution_count": 4,
   "metadata": {},
   "outputs": [],
   "source": [
    "from typing import Optional, List, Dict\n",
    "import json\n",
    "\n",
    "def convert_to_alpaca(df: pl.DataFrame, instruction: str, output_col: str, input_col: Optional[str] = None, output_path: str = \"dataset.jsonl\"):\n",
    "    records: List[Dict] = []\n",
    "\n",
    "    for row in df.iter_rows(named=True):\n",
    "        record = {\n",
    "            \"instruction\": instruction\n",
    "        }\n",
    "\n",
    "        if input_col and row[input_col]:\n",
    "            record[\"input\"] = row[input_col]\n",
    "\n",
    "        record[\"output\"] = row[output_col]\n",
    "\n",
    "        records.append(record)\n",
    "\n",
    "    with open(output_path, 'w', encoding='utf-8') as f:\n",
    "        for record in records:\n",
    "            f.write(json.dumps(record, ensure_ascii=False) + '\\n')\n",
    "\n",
    "    print(f\"Saved to path: {output_path}\")"
   ]
  },
  {
   "cell_type": "markdown",
   "metadata": {},
   "source": [
    "And finally convert our datasets to alpaca"
   ]
  },
  {
   "cell_type": "code",
   "execution_count": 5,
   "metadata": {},
   "outputs": [
    {
     "name": "stdout",
     "output_type": "stream",
     "text": [
      "Saved to path: data/translation/dataset/europarl.jsonl\n"
     ]
    }
   ],
   "source": [
    "europarl_jsonl_outputpath = 'data/translation/dataset/europarl.jsonl'\n",
    "\n",
    "convert_to_alpaca(df_europarl, instruction=\"Přelož tento text z angličtiny do češtiny\", input_col=\"rhs\", output_col=\"lhs\", output_path=europarl_jsonl_outputpath)"
   ]
  },
  {
   "cell_type": "code",
   "execution_count": 6,
   "metadata": {},
   "outputs": [
    {
     "name": "stdout",
     "output_type": "stream",
     "text": [
      "Saved to path: data/translation/dataset/paracrawl.jsonl\n"
     ]
    }
   ],
   "source": [
    "paracrawl_jsonl_outputpath = 'data/translation/dataset/paracrawl.jsonl'\n",
    "\n",
    "convert_to_alpaca(df_paracrawl, instruction=\"Přelož tento text z angličtiny do češtiny\", input_col=\"lhs\", output_col=\"rhs\", output_path=paracrawl_jsonl_outputpath)"
   ]
  }
 ],
 "metadata": {
  "kernelspec": {
   "display_name": "gemma-global-competetion",
   "language": "python",
   "name": "python3"
  },
  "language_info": {
   "codemirror_mode": {
    "name": "ipython",
    "version": 3
   },
   "file_extension": ".py",
   "mimetype": "text/x-python",
   "name": "python",
   "nbconvert_exporter": "python",
   "pygments_lexer": "ipython3",
   "version": "3.13.1"
  }
 },
 "nbformat": 4,
 "nbformat_minor": 2
}
